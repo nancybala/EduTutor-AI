{
  "cells": [
    {
      "cell_type": "markdown",
      "metadata": {
        "id": "view-in-github",
        "colab_type": "text"
      },
      "source": [
        "<a href=\"https://colab.research.google.com/github/kamsalideepika/EduTutorAI-Personalized-Learning-with-Generative-AI-and-LMS-Integration/blob/main/EduTutor_AI_Advanced_Academic_Assistant.ipynb\" target=\"_parent\"><img src=\"https://colab.research.google.com/assets/colab-badge.svg\" alt=\"Open In Colab\"/></a>"
      ]
    },
    {
      "cell_type": "code",
      "source": [
        "import gradio as gr\n",
        "import time\n",
        "\n",
        "# This function simulates the advanced AI tutor's response\n",
        "# In a real application, this would call your FastAPI backend which\n",
        "# would then integrate with Watsonx + Granite 3.3B for instruction-tuned inference.\n",
        "def edu_tutor_advanced(question: str) -> str:\n",
        "    \"\"\"\n",
        "    Simulates the response of the advanced academic assistant.\n",
        "    Provides specific answers for the example questions and a generic\n",
        "    response for others.\n",
        "    \"\"\"\n",
        "    question = question.strip().lower()\n",
        "    time.sleep(1) # Simulate processing time for AI model\n",
        "\n",
        "    if \"what is photosynthesis, explained for a 5th grader?\" in question:\n",
        "        return \"\"\"\n",
        "        Imagine plants are like tiny chefs, and they want to make their own food!\n",
        "        They use sunlight, water (like a drink), and a gas called carbon dioxide (which we breathe out)\n",
        "        to cook up sugary food for themselves. This cooking process is called photosynthesis.\n",
        "        It's how plants get energy to grow big and strong, and a cool leftover from their cooking is oxygen,\n",
        "        which we need to breathe!\n",
        "        \"\"\"\n",
        "    elif \"generate 6 fill-in-the-blank questions from this uploaded storybook about farm animals.\" in question:\n",
        "        # In a real scenario, this would involve processing an uploaded file,\n",
        "        # extracting text, and then using the LLM to generate questions.\n",
        "        # For this mock, we provide example questions.\n",
        "        return \"\"\"\n",
        "        Okay, from a storybook about farm animals, here are 6 fill-in-the-blank questions:\n",
        "\n",
        "        1. The farmer gathered fresh ______ from the hen house every morning.\n",
        "        2. A fluffy white ______ grazed peacefully in the green pasture.\n",
        "        3. The little ______ loved to roll around in the mud.\n",
        "        4. When the sun came up, the ______ crowed loudly to wake everyone.\n",
        "        5. The friendly ______ wagged its tail as the children approached.\n",
        "        6. We rode on the back of the gentle ______ across the fields.\n",
        "        \"\"\"\n",
        "    elif \"teach me how to count to ten in japanese.\" in question:\n",
        "        return \"\"\"\n",
        "        Certainly! Here's how to count to ten in Japanese:\n",
        "\n",
        "        1.  **Ichi** ($$\\text{一}$$)\n",
        "        2.  **Ni** ($$\\text{二}$$)\n",
        "        3.  **San** ($$\\text{三}$$)\n",
        "        4.  **Shi** or **Yon** ($$\\text{四}$$) - Yon is more common to avoid the sound of death (shi).\n",
        "        5.  **Go** ($$\\text{五}$$)\n",
        "        6.  **Roku** ($$\\text{六}$$)\n",
        "        7.  **Shichi** or **Nana** ($$\\text{七}$$) - Nana is more common.\n",
        "        8.  **Hachi** ($$\\text{八}$$)\n",
        "        9.  **Kyuu** or **Ku** ($$\\text{九}$$) - Kyuu is more common.\n",
        "        10. **Juu** ($$\\text{十}$$)\n",
        "\n",
        "        Try practicing them aloud!\n",
        "        \"\"\"\n",
        "    else:\n",
        "        return f\"I am Edu-Tutor AI (Advanced Academic Assistant). You asked: '{question}'.\\n\\nI can provide detailed, high-level responses on various academic topics, powered by IBM Granite 3.3B. Please ask a specific question!\"\n",
        "\n",
        "# Define the Gradio Interface as per your request\n",
        "iface = gr.Interface(\n",
        "    fn=edu_tutor_advanced,\n",
        "    inputs=gr.Textbox(lines=4, label=\"🎓 Ask Your Advanced-Level Question\"),\n",
        "    outputs=\"text\",\n",
        "    title=\"🎓 Edu-Tutor AI (Advanced Academic Assistant)\",\n",
        "    description=\"Ask deep questions in science, engineering, commerce, humanities, or tech. This AI tutor gives structured and high-level responses powered by IBM Granite 3.3B.\"\n",
        ")\n",
        "\n",
        "iface.launch(debug=True, share=True)"
      ],
      "outputs": [
        {
          "output_type": "stream",
          "name": "stdout",
          "text": [
            "Colab notebook detected. This cell will run indefinitely so that you can see errors and logs. To turn off, set debug=False in launch().\n",
            "* Running on public URL: https://48c88ae46a176de855.gradio.live\n",
            "\n",
            "This share link expires in 1 week. For free permanent hosting and GPU upgrades, run `gradio deploy` from the terminal in the working directory to deploy to Hugging Face Spaces (https://huggingface.co/spaces)\n"
          ]
        },
        {
          "output_type": "display_data",
          "data": {
            "text/plain": [
              "<IPython.core.display.HTML object>"
            ],
            "text/html": [
              "<div><iframe src=\"https://48c88ae46a176de855.gradio.live\" width=\"100%\" height=\"500\" allow=\"autoplay; camera; microphone; clipboard-read; clipboard-write;\" frameborder=\"0\" allowfullscreen></iframe></div>"
            ]
          },
          "metadata": {}
        },
        {
          "output_type": "stream",
          "name": "stdout",
          "text": [
            "Created dataset file at: .gradio/flagged/dataset1.csv\n"
          ]
        }
      ],
      "execution_count": null,
      "metadata": {
        "colab": {
          "base_uri": "https://localhost:8080/",
          "height": 628
        },
        "id": "YEQQtYNCm3eN",
        "outputId": "c4891587-2932-4b12-e3be-07017f48544c"
      }
    }
  ],
  "metadata": {
    "colab": {
      "provenance": [],
      "gpuType": "T4",
      "include_colab_link": true
    },
    "kernelspec": {
      "display_name": "Python 3",
      "name": "python3"
    },
    "accelerator": "GPU"
  },
  "nbformat": 4,
  "nbformat_minor": 0
}